{
 "cells": [
  {
   "cell_type": "markdown",
   "id": "cc9496ef",
   "metadata": {},
   "source": [
    "# Boston Housing — Project Tasks 1–3"
   ]
  },
  {
   "cell_type": "code",
   "execution_count": 14,
   "id": "a0acf30c",
   "metadata": {},
   "outputs": [
    {
     "data": {
      "application/vnd.microsoft.datawrangler.viewer.v0+json": {
       "columns": [
        {
         "name": "index",
         "rawType": "int64",
         "type": "integer"
        },
        {
         "name": "Unnamed: 0",
         "rawType": "int64",
         "type": "integer"
        },
        {
         "name": "CRIM",
         "rawType": "float64",
         "type": "float"
        },
        {
         "name": "ZN",
         "rawType": "float64",
         "type": "float"
        },
        {
         "name": "INDUS",
         "rawType": "float64",
         "type": "float"
        },
        {
         "name": "CHAS",
         "rawType": "float64",
         "type": "float"
        },
        {
         "name": "NOX",
         "rawType": "float64",
         "type": "float"
        },
        {
         "name": "RM",
         "rawType": "float64",
         "type": "float"
        },
        {
         "name": "AGE",
         "rawType": "float64",
         "type": "float"
        },
        {
         "name": "DIS",
         "rawType": "float64",
         "type": "float"
        },
        {
         "name": "RAD",
         "rawType": "float64",
         "type": "float"
        },
        {
         "name": "TAX",
         "rawType": "float64",
         "type": "float"
        },
        {
         "name": "PTRATIO",
         "rawType": "float64",
         "type": "float"
        },
        {
         "name": "LSTAT",
         "rawType": "float64",
         "type": "float"
        },
        {
         "name": "MEDV",
         "rawType": "float64",
         "type": "float"
        }
       ],
       "ref": "a9cbf075-2655-4602-a26b-3f6fb2686983",
       "rows": [
        [
         "0",
         "0",
         "0.00632",
         "18.0",
         "2.31",
         "0.0",
         "0.538",
         "6.575",
         "65.2",
         "4.09",
         "1.0",
         "296.0",
         "15.3",
         "4.98",
         "24.0"
        ],
        [
         "1",
         "1",
         "0.02731",
         "0.0",
         "7.07",
         "0.0",
         "0.469",
         "6.421",
         "78.9",
         "4.9671",
         "2.0",
         "242.0",
         "17.8",
         "9.14",
         "21.6"
        ],
        [
         "2",
         "2",
         "0.02729",
         "0.0",
         "7.07",
         "0.0",
         "0.469",
         "7.185",
         "61.1",
         "4.9671",
         "2.0",
         "242.0",
         "17.8",
         "4.03",
         "34.7"
        ],
        [
         "3",
         "3",
         "0.03237",
         "0.0",
         "2.18",
         "0.0",
         "0.458",
         "6.998",
         "45.8",
         "6.0622",
         "3.0",
         "222.0",
         "18.7",
         "2.94",
         "33.4"
        ],
        [
         "4",
         "4",
         "0.06905",
         "0.0",
         "2.18",
         "0.0",
         "0.458",
         "7.147",
         "54.2",
         "6.0622",
         "3.0",
         "222.0",
         "18.7",
         "5.33",
         "36.2"
        ]
       ],
       "shape": {
        "columns": 14,
        "rows": 5
       }
      },
      "text/html": [
       "<div>\n",
       "<style scoped>\n",
       "    .dataframe tbody tr th:only-of-type {\n",
       "        vertical-align: middle;\n",
       "    }\n",
       "\n",
       "    .dataframe tbody tr th {\n",
       "        vertical-align: top;\n",
       "    }\n",
       "\n",
       "    .dataframe thead th {\n",
       "        text-align: right;\n",
       "    }\n",
       "</style>\n",
       "<table border=\"1\" class=\"dataframe\">\n",
       "  <thead>\n",
       "    <tr style=\"text-align: right;\">\n",
       "      <th></th>\n",
       "      <th>Unnamed: 0</th>\n",
       "      <th>CRIM</th>\n",
       "      <th>ZN</th>\n",
       "      <th>INDUS</th>\n",
       "      <th>CHAS</th>\n",
       "      <th>NOX</th>\n",
       "      <th>RM</th>\n",
       "      <th>AGE</th>\n",
       "      <th>DIS</th>\n",
       "      <th>RAD</th>\n",
       "      <th>TAX</th>\n",
       "      <th>PTRATIO</th>\n",
       "      <th>LSTAT</th>\n",
       "      <th>MEDV</th>\n",
       "    </tr>\n",
       "  </thead>\n",
       "  <tbody>\n",
       "    <tr>\n",
       "      <th>0</th>\n",
       "      <td>0</td>\n",
       "      <td>0.00632</td>\n",
       "      <td>18.0</td>\n",
       "      <td>2.31</td>\n",
       "      <td>0.0</td>\n",
       "      <td>0.538</td>\n",
       "      <td>6.575</td>\n",
       "      <td>65.2</td>\n",
       "      <td>4.0900</td>\n",
       "      <td>1.0</td>\n",
       "      <td>296.0</td>\n",
       "      <td>15.3</td>\n",
       "      <td>4.98</td>\n",
       "      <td>24.0</td>\n",
       "    </tr>\n",
       "    <tr>\n",
       "      <th>1</th>\n",
       "      <td>1</td>\n",
       "      <td>0.02731</td>\n",
       "      <td>0.0</td>\n",
       "      <td>7.07</td>\n",
       "      <td>0.0</td>\n",
       "      <td>0.469</td>\n",
       "      <td>6.421</td>\n",
       "      <td>78.9</td>\n",
       "      <td>4.9671</td>\n",
       "      <td>2.0</td>\n",
       "      <td>242.0</td>\n",
       "      <td>17.8</td>\n",
       "      <td>9.14</td>\n",
       "      <td>21.6</td>\n",
       "    </tr>\n",
       "    <tr>\n",
       "      <th>2</th>\n",
       "      <td>2</td>\n",
       "      <td>0.02729</td>\n",
       "      <td>0.0</td>\n",
       "      <td>7.07</td>\n",
       "      <td>0.0</td>\n",
       "      <td>0.469</td>\n",
       "      <td>7.185</td>\n",
       "      <td>61.1</td>\n",
       "      <td>4.9671</td>\n",
       "      <td>2.0</td>\n",
       "      <td>242.0</td>\n",
       "      <td>17.8</td>\n",
       "      <td>4.03</td>\n",
       "      <td>34.7</td>\n",
       "    </tr>\n",
       "    <tr>\n",
       "      <th>3</th>\n",
       "      <td>3</td>\n",
       "      <td>0.03237</td>\n",
       "      <td>0.0</td>\n",
       "      <td>2.18</td>\n",
       "      <td>0.0</td>\n",
       "      <td>0.458</td>\n",
       "      <td>6.998</td>\n",
       "      <td>45.8</td>\n",
       "      <td>6.0622</td>\n",
       "      <td>3.0</td>\n",
       "      <td>222.0</td>\n",
       "      <td>18.7</td>\n",
       "      <td>2.94</td>\n",
       "      <td>33.4</td>\n",
       "    </tr>\n",
       "    <tr>\n",
       "      <th>4</th>\n",
       "      <td>4</td>\n",
       "      <td>0.06905</td>\n",
       "      <td>0.0</td>\n",
       "      <td>2.18</td>\n",
       "      <td>0.0</td>\n",
       "      <td>0.458</td>\n",
       "      <td>7.147</td>\n",
       "      <td>54.2</td>\n",
       "      <td>6.0622</td>\n",
       "      <td>3.0</td>\n",
       "      <td>222.0</td>\n",
       "      <td>18.7</td>\n",
       "      <td>5.33</td>\n",
       "      <td>36.2</td>\n",
       "    </tr>\n",
       "  </tbody>\n",
       "</table>\n",
       "</div>"
      ],
      "text/plain": [
       "   Unnamed: 0     CRIM    ZN  INDUS  CHAS    NOX     RM   AGE     DIS  RAD  \\\n",
       "0           0  0.00632  18.0   2.31   0.0  0.538  6.575  65.2  4.0900  1.0   \n",
       "1           1  0.02731   0.0   7.07   0.0  0.469  6.421  78.9  4.9671  2.0   \n",
       "2           2  0.02729   0.0   7.07   0.0  0.469  7.185  61.1  4.9671  2.0   \n",
       "3           3  0.03237   0.0   2.18   0.0  0.458  6.998  45.8  6.0622  3.0   \n",
       "4           4  0.06905   0.0   2.18   0.0  0.458  7.147  54.2  6.0622  3.0   \n",
       "\n",
       "     TAX  PTRATIO  LSTAT  MEDV  \n",
       "0  296.0     15.3   4.98  24.0  \n",
       "1  242.0     17.8   9.14  21.6  \n",
       "2  242.0     17.8   4.03  34.7  \n",
       "3  222.0     18.7   2.94  33.4  \n",
       "4  222.0     18.7   5.33  36.2  "
      ]
     },
     "execution_count": 14,
     "metadata": {},
     "output_type": "execute_result"
    }
   ],
   "source": [
    "import pandas as pd\n",
    "import numpy as np\n",
    "import matplotlib.pyplot as plt\n",
    "from scipy import stats\n",
    "import statsmodels.api as sm\n",
    "import statsmodels.formula.api as smf\n",
    "\n",
    "boston_url = 'https://cf-courses-data.s3.us.cloud-object-storage.appdomain.cloud/IBMDeveloperSkillsNetwork-ST0151EN-SkillsNetwork/labs/boston_housing.csv'\n",
    "boston_df = pd.read_csv(boston_url)\n",
    "boston_df.head()"
   ]
  },
  {
   "cell_type": "code",
   "execution_count": 15,
   "id": "0c707cfc",
   "metadata": {},
   "outputs": [
    {
     "name": "stdout",
     "output_type": "stream",
     "text": [
      "Shape: (506, 14)\n",
      "<class 'pandas.core.frame.DataFrame'>\n",
      "RangeIndex: 506 entries, 0 to 505\n",
      "Data columns (total 14 columns):\n",
      " #   Column      Non-Null Count  Dtype  \n",
      "---  ------      --------------  -----  \n",
      " 0   Unnamed: 0  506 non-null    int64  \n",
      " 1   CRIM        506 non-null    float64\n",
      " 2   ZN          506 non-null    float64\n",
      " 3   INDUS       506 non-null    float64\n",
      " 4   CHAS        506 non-null    float64\n",
      " 5   NOX         506 non-null    float64\n",
      " 6   RM          506 non-null    float64\n",
      " 7   AGE         506 non-null    float64\n",
      " 8   DIS         506 non-null    float64\n",
      " 9   RAD         506 non-null    float64\n",
      " 10  TAX         506 non-null    float64\n",
      " 11  PTRATIO     506 non-null    float64\n",
      " 12  LSTAT       506 non-null    float64\n",
      " 13  MEDV        506 non-null    float64\n",
      "dtypes: float64(13), int64(1)\n",
      "memory usage: 55.5 KB\n"
     ]
    },
    {
     "data": {
      "application/vnd.microsoft.datawrangler.viewer.v0+json": {
       "columns": [
        {
         "name": "index",
         "rawType": "object",
         "type": "string"
        },
        {
         "name": "count",
         "rawType": "float64",
         "type": "float"
        },
        {
         "name": "mean",
         "rawType": "float64",
         "type": "float"
        },
        {
         "name": "std",
         "rawType": "float64",
         "type": "float"
        },
        {
         "name": "min",
         "rawType": "float64",
         "type": "float"
        },
        {
         "name": "25%",
         "rawType": "float64",
         "type": "float"
        },
        {
         "name": "50%",
         "rawType": "float64",
         "type": "float"
        },
        {
         "name": "75%",
         "rawType": "float64",
         "type": "float"
        },
        {
         "name": "max",
         "rawType": "float64",
         "type": "float"
        }
       ],
       "ref": "d31bea89-3d9d-48b7-b6c3-468bdd007209",
       "rows": [
        [
         "Unnamed: 0",
         "506.0",
         "252.5",
         "146.2138844296259",
         "0.0",
         "126.25",
         "252.5",
         "378.75",
         "505.0"
        ],
        [
         "CRIM",
         "506.0",
         "3.613523557312254",
         "8.60154510533249",
         "0.00632",
         "0.08204499999999999",
         "0.25651",
         "3.6770825",
         "88.9762"
        ],
        [
         "ZN",
         "506.0",
         "11.363636363636363",
         "23.32245299451514",
         "0.0",
         "0.0",
         "0.0",
         "12.5",
         "100.0"
        ],
        [
         "INDUS",
         "506.0",
         "11.13677865612648",
         "6.860352940897585",
         "0.46",
         "5.19",
         "9.69",
         "18.1",
         "27.74"
        ],
        [
         "CHAS",
         "506.0",
         "0.0691699604743083",
         "0.25399404134041037",
         "0.0",
         "0.0",
         "0.0",
         "0.0",
         "1.0"
        ],
        [
         "NOX",
         "506.0",
         "0.5546950592885376",
         "0.11587767566755595",
         "0.385",
         "0.449",
         "0.538",
         "0.624",
         "0.871"
        ],
        [
         "RM",
         "506.0",
         "6.284634387351779",
         "0.7026171434153233",
         "3.561",
         "5.8854999999999995",
         "6.2085",
         "6.6235",
         "8.78"
        ],
        [
         "AGE",
         "506.0",
         "68.57490118577076",
         "28.148861406903617",
         "2.9",
         "45.025",
         "77.5",
         "94.07499999999999",
         "100.0"
        ],
        [
         "DIS",
         "506.0",
         "3.795042687747036",
         "2.105710126627611",
         "1.1296",
         "2.100175",
         "3.2074499999999997",
         "5.1884250000000005",
         "12.1265"
        ],
        [
         "RAD",
         "506.0",
         "9.549407114624506",
         "8.707259384239366",
         "1.0",
         "4.0",
         "5.0",
         "24.0",
         "24.0"
        ],
        [
         "TAX",
         "506.0",
         "408.2371541501976",
         "168.53711605495903",
         "187.0",
         "279.0",
         "330.0",
         "666.0",
         "711.0"
        ],
        [
         "PTRATIO",
         "506.0",
         "18.455533596837945",
         "2.1649455237144406",
         "12.6",
         "17.4",
         "19.05",
         "20.2",
         "22.0"
        ],
        [
         "LSTAT",
         "506.0",
         "12.653063241106722",
         "7.141061511348571",
         "1.73",
         "6.949999999999999",
         "11.36",
         "16.955000000000002",
         "37.97"
        ],
        [
         "MEDV",
         "506.0",
         "22.532806324110677",
         "9.197104087379818",
         "5.0",
         "17.025",
         "21.2",
         "25.0",
         "50.0"
        ]
       ],
       "shape": {
        "columns": 8,
        "rows": 14
       }
      },
      "text/html": [
       "<div>\n",
       "<style scoped>\n",
       "    .dataframe tbody tr th:only-of-type {\n",
       "        vertical-align: middle;\n",
       "    }\n",
       "\n",
       "    .dataframe tbody tr th {\n",
       "        vertical-align: top;\n",
       "    }\n",
       "\n",
       "    .dataframe thead th {\n",
       "        text-align: right;\n",
       "    }\n",
       "</style>\n",
       "<table border=\"1\" class=\"dataframe\">\n",
       "  <thead>\n",
       "    <tr style=\"text-align: right;\">\n",
       "      <th></th>\n",
       "      <th>count</th>\n",
       "      <th>mean</th>\n",
       "      <th>std</th>\n",
       "      <th>min</th>\n",
       "      <th>25%</th>\n",
       "      <th>50%</th>\n",
       "      <th>75%</th>\n",
       "      <th>max</th>\n",
       "    </tr>\n",
       "  </thead>\n",
       "  <tbody>\n",
       "    <tr>\n",
       "      <th>Unnamed: 0</th>\n",
       "      <td>506.0</td>\n",
       "      <td>252.500000</td>\n",
       "      <td>146.213884</td>\n",
       "      <td>0.00000</td>\n",
       "      <td>126.250000</td>\n",
       "      <td>252.50000</td>\n",
       "      <td>378.750000</td>\n",
       "      <td>505.0000</td>\n",
       "    </tr>\n",
       "    <tr>\n",
       "      <th>CRIM</th>\n",
       "      <td>506.0</td>\n",
       "      <td>3.613524</td>\n",
       "      <td>8.601545</td>\n",
       "      <td>0.00632</td>\n",
       "      <td>0.082045</td>\n",
       "      <td>0.25651</td>\n",
       "      <td>3.677083</td>\n",
       "      <td>88.9762</td>\n",
       "    </tr>\n",
       "    <tr>\n",
       "      <th>ZN</th>\n",
       "      <td>506.0</td>\n",
       "      <td>11.363636</td>\n",
       "      <td>23.322453</td>\n",
       "      <td>0.00000</td>\n",
       "      <td>0.000000</td>\n",
       "      <td>0.00000</td>\n",
       "      <td>12.500000</td>\n",
       "      <td>100.0000</td>\n",
       "    </tr>\n",
       "    <tr>\n",
       "      <th>INDUS</th>\n",
       "      <td>506.0</td>\n",
       "      <td>11.136779</td>\n",
       "      <td>6.860353</td>\n",
       "      <td>0.46000</td>\n",
       "      <td>5.190000</td>\n",
       "      <td>9.69000</td>\n",
       "      <td>18.100000</td>\n",
       "      <td>27.7400</td>\n",
       "    </tr>\n",
       "    <tr>\n",
       "      <th>CHAS</th>\n",
       "      <td>506.0</td>\n",
       "      <td>0.069170</td>\n",
       "      <td>0.253994</td>\n",
       "      <td>0.00000</td>\n",
       "      <td>0.000000</td>\n",
       "      <td>0.00000</td>\n",
       "      <td>0.000000</td>\n",
       "      <td>1.0000</td>\n",
       "    </tr>\n",
       "    <tr>\n",
       "      <th>NOX</th>\n",
       "      <td>506.0</td>\n",
       "      <td>0.554695</td>\n",
       "      <td>0.115878</td>\n",
       "      <td>0.38500</td>\n",
       "      <td>0.449000</td>\n",
       "      <td>0.53800</td>\n",
       "      <td>0.624000</td>\n",
       "      <td>0.8710</td>\n",
       "    </tr>\n",
       "    <tr>\n",
       "      <th>RM</th>\n",
       "      <td>506.0</td>\n",
       "      <td>6.284634</td>\n",
       "      <td>0.702617</td>\n",
       "      <td>3.56100</td>\n",
       "      <td>5.885500</td>\n",
       "      <td>6.20850</td>\n",
       "      <td>6.623500</td>\n",
       "      <td>8.7800</td>\n",
       "    </tr>\n",
       "    <tr>\n",
       "      <th>AGE</th>\n",
       "      <td>506.0</td>\n",
       "      <td>68.574901</td>\n",
       "      <td>28.148861</td>\n",
       "      <td>2.90000</td>\n",
       "      <td>45.025000</td>\n",
       "      <td>77.50000</td>\n",
       "      <td>94.075000</td>\n",
       "      <td>100.0000</td>\n",
       "    </tr>\n",
       "    <tr>\n",
       "      <th>DIS</th>\n",
       "      <td>506.0</td>\n",
       "      <td>3.795043</td>\n",
       "      <td>2.105710</td>\n",
       "      <td>1.12960</td>\n",
       "      <td>2.100175</td>\n",
       "      <td>3.20745</td>\n",
       "      <td>5.188425</td>\n",
       "      <td>12.1265</td>\n",
       "    </tr>\n",
       "    <tr>\n",
       "      <th>RAD</th>\n",
       "      <td>506.0</td>\n",
       "      <td>9.549407</td>\n",
       "      <td>8.707259</td>\n",
       "      <td>1.00000</td>\n",
       "      <td>4.000000</td>\n",
       "      <td>5.00000</td>\n",
       "      <td>24.000000</td>\n",
       "      <td>24.0000</td>\n",
       "    </tr>\n",
       "    <tr>\n",
       "      <th>TAX</th>\n",
       "      <td>506.0</td>\n",
       "      <td>408.237154</td>\n",
       "      <td>168.537116</td>\n",
       "      <td>187.00000</td>\n",
       "      <td>279.000000</td>\n",
       "      <td>330.00000</td>\n",
       "      <td>666.000000</td>\n",
       "      <td>711.0000</td>\n",
       "    </tr>\n",
       "    <tr>\n",
       "      <th>PTRATIO</th>\n",
       "      <td>506.0</td>\n",
       "      <td>18.455534</td>\n",
       "      <td>2.164946</td>\n",
       "      <td>12.60000</td>\n",
       "      <td>17.400000</td>\n",
       "      <td>19.05000</td>\n",
       "      <td>20.200000</td>\n",
       "      <td>22.0000</td>\n",
       "    </tr>\n",
       "    <tr>\n",
       "      <th>LSTAT</th>\n",
       "      <td>506.0</td>\n",
       "      <td>12.653063</td>\n",
       "      <td>7.141062</td>\n",
       "      <td>1.73000</td>\n",
       "      <td>6.950000</td>\n",
       "      <td>11.36000</td>\n",
       "      <td>16.955000</td>\n",
       "      <td>37.9700</td>\n",
       "    </tr>\n",
       "    <tr>\n",
       "      <th>MEDV</th>\n",
       "      <td>506.0</td>\n",
       "      <td>22.532806</td>\n",
       "      <td>9.197104</td>\n",
       "      <td>5.00000</td>\n",
       "      <td>17.025000</td>\n",
       "      <td>21.20000</td>\n",
       "      <td>25.000000</td>\n",
       "      <td>50.0000</td>\n",
       "    </tr>\n",
       "  </tbody>\n",
       "</table>\n",
       "</div>"
      ],
      "text/plain": [
       "            count        mean         std        min         25%        50%  \\\n",
       "Unnamed: 0  506.0  252.500000  146.213884    0.00000  126.250000  252.50000   \n",
       "CRIM        506.0    3.613524    8.601545    0.00632    0.082045    0.25651   \n",
       "ZN          506.0   11.363636   23.322453    0.00000    0.000000    0.00000   \n",
       "INDUS       506.0   11.136779    6.860353    0.46000    5.190000    9.69000   \n",
       "CHAS        506.0    0.069170    0.253994    0.00000    0.000000    0.00000   \n",
       "NOX         506.0    0.554695    0.115878    0.38500    0.449000    0.53800   \n",
       "RM          506.0    6.284634    0.702617    3.56100    5.885500    6.20850   \n",
       "AGE         506.0   68.574901   28.148861    2.90000   45.025000   77.50000   \n",
       "DIS         506.0    3.795043    2.105710    1.12960    2.100175    3.20745   \n",
       "RAD         506.0    9.549407    8.707259    1.00000    4.000000    5.00000   \n",
       "TAX         506.0  408.237154  168.537116  187.00000  279.000000  330.00000   \n",
       "PTRATIO     506.0   18.455534    2.164946   12.60000   17.400000   19.05000   \n",
       "LSTAT       506.0   12.653063    7.141062    1.73000    6.950000   11.36000   \n",
       "MEDV        506.0   22.532806    9.197104    5.00000   17.025000   21.20000   \n",
       "\n",
       "                   75%       max  \n",
       "Unnamed: 0  378.750000  505.0000  \n",
       "CRIM          3.677083   88.9762  \n",
       "ZN           12.500000  100.0000  \n",
       "INDUS        18.100000   27.7400  \n",
       "CHAS          0.000000    1.0000  \n",
       "NOX           0.624000    0.8710  \n",
       "RM            6.623500    8.7800  \n",
       "AGE          94.075000  100.0000  \n",
       "DIS           5.188425   12.1265  \n",
       "RAD          24.000000   24.0000  \n",
       "TAX         666.000000  711.0000  \n",
       "PTRATIO      20.200000   22.0000  \n",
       "LSTAT        16.955000   37.9700  \n",
       "MEDV         25.000000   50.0000  "
      ]
     },
     "execution_count": 15,
     "metadata": {},
     "output_type": "execute_result"
    }
   ],
   "source": [
    "# Task 1 summary & info\n",
    "print(\"Shape:\", boston_df.shape)\n",
    "boston_df.info()\n",
    "boston_df.describe().T"
   ]
  },
  {
   "cell_type": "code",
   "execution_count": 16,
   "id": "d42f0fc4",
   "metadata": {},
   "outputs": [
    {
     "data": {
      "application/vnd.microsoft.datawrangler.viewer.v0+json": {
       "columns": [
        {
         "name": "index",
         "rawType": "object",
         "type": "string"
        },
        {
         "name": "0",
         "rawType": "int64",
         "type": "integer"
        }
       ],
       "ref": "e09acabc-0a6b-412a-885d-2c0b3c916d09",
       "rows": [
        [
         "Unnamed: 0",
         "0"
        ],
        [
         "CRIM",
         "0"
        ],
        [
         "ZN",
         "0"
        ],
        [
         "INDUS",
         "0"
        ],
        [
         "CHAS",
         "0"
        ],
        [
         "NOX",
         "0"
        ],
        [
         "RM",
         "0"
        ],
        [
         "AGE",
         "0"
        ],
        [
         "DIS",
         "0"
        ],
        [
         "RAD",
         "0"
        ],
        [
         "TAX",
         "0"
        ],
        [
         "PTRATIO",
         "0"
        ],
        [
         "LSTAT",
         "0"
        ],
        [
         "MEDV",
         "0"
        ]
       ],
       "shape": {
        "columns": 1,
        "rows": 14
       }
      },
      "text/plain": [
       "Unnamed: 0    0\n",
       "CRIM          0\n",
       "ZN            0\n",
       "INDUS         0\n",
       "CHAS          0\n",
       "NOX           0\n",
       "RM            0\n",
       "AGE           0\n",
       "DIS           0\n",
       "RAD           0\n",
       "TAX           0\n",
       "PTRATIO       0\n",
       "LSTAT         0\n",
       "MEDV          0\n",
       "dtype: int64"
      ]
     },
     "execution_count": 16,
     "metadata": {},
     "output_type": "execute_result"
    }
   ],
   "source": [
    "# Check missing values\n",
    "boston_df.isna().sum()"
   ]
  },
  {
   "cell_type": "code",
   "execution_count": 17,
   "id": "59f72f49",
   "metadata": {},
   "outputs": [
    {
     "data": {
      "application/vnd.microsoft.datawrangler.viewer.v0+json": {
       "columns": [
        {
         "name": "index",
         "rawType": "object",
         "type": "string"
        },
        {
         "name": "MEDV",
         "rawType": "float64",
         "type": "float"
        },
        {
         "name": "CHAS",
         "rawType": "float64",
         "type": "float"
        },
        {
         "name": "AGE",
         "rawType": "float64",
         "type": "float"
        },
        {
         "name": "NOX",
         "rawType": "float64",
         "type": "float"
        },
        {
         "name": "INDUS",
         "rawType": "float64",
         "type": "float"
        },
        {
         "name": "PTRATIO",
         "rawType": "float64",
         "type": "float"
        },
        {
         "name": "DIS",
         "rawType": "float64",
         "type": "float"
        }
       ],
       "ref": "0f2a28a6-4d50-44b7-b2cb-478474e000db",
       "rows": [
        [
         "count",
         "506.0",
         "506.0",
         "506.0",
         "506.0",
         "506.0",
         "506.0",
         "506.0"
        ],
        [
         "mean",
         "22.532806324110677",
         "0.0691699604743083",
         "68.57490118577076",
         "0.5546950592885376",
         "11.13677865612648",
         "18.455533596837945",
         "3.795042687747036"
        ],
        [
         "std",
         "9.197104087379818",
         "0.25399404134041037",
         "28.148861406903617",
         "0.11587767566755595",
         "6.860352940897585",
         "2.1649455237144406",
         "2.105710126627611"
        ],
        [
         "min",
         "5.0",
         "0.0",
         "2.9",
         "0.385",
         "0.46",
         "12.6",
         "1.1296"
        ],
        [
         "25%",
         "17.025",
         "0.0",
         "45.025",
         "0.449",
         "5.19",
         "17.4",
         "2.100175"
        ],
        [
         "50%",
         "21.2",
         "0.0",
         "77.5",
         "0.538",
         "9.69",
         "19.05",
         "3.2074499999999997"
        ],
        [
         "75%",
         "25.0",
         "0.0",
         "94.07499999999999",
         "0.624",
         "18.1",
         "20.2",
         "5.1884250000000005"
        ],
        [
         "max",
         "50.0",
         "1.0",
         "100.0",
         "0.871",
         "27.74",
         "22.0",
         "12.1265"
        ]
       ],
       "shape": {
        "columns": 7,
        "rows": 8
       }
      },
      "text/html": [
       "<div>\n",
       "<style scoped>\n",
       "    .dataframe tbody tr th:only-of-type {\n",
       "        vertical-align: middle;\n",
       "    }\n",
       "\n",
       "    .dataframe tbody tr th {\n",
       "        vertical-align: top;\n",
       "    }\n",
       "\n",
       "    .dataframe thead th {\n",
       "        text-align: right;\n",
       "    }\n",
       "</style>\n",
       "<table border=\"1\" class=\"dataframe\">\n",
       "  <thead>\n",
       "    <tr style=\"text-align: right;\">\n",
       "      <th></th>\n",
       "      <th>MEDV</th>\n",
       "      <th>CHAS</th>\n",
       "      <th>AGE</th>\n",
       "      <th>NOX</th>\n",
       "      <th>INDUS</th>\n",
       "      <th>PTRATIO</th>\n",
       "      <th>DIS</th>\n",
       "    </tr>\n",
       "  </thead>\n",
       "  <tbody>\n",
       "    <tr>\n",
       "      <th>count</th>\n",
       "      <td>506.000000</td>\n",
       "      <td>506.000000</td>\n",
       "      <td>506.000000</td>\n",
       "      <td>506.000000</td>\n",
       "      <td>506.000000</td>\n",
       "      <td>506.000000</td>\n",
       "      <td>506.000000</td>\n",
       "    </tr>\n",
       "    <tr>\n",
       "      <th>mean</th>\n",
       "      <td>22.532806</td>\n",
       "      <td>0.069170</td>\n",
       "      <td>68.574901</td>\n",
       "      <td>0.554695</td>\n",
       "      <td>11.136779</td>\n",
       "      <td>18.455534</td>\n",
       "      <td>3.795043</td>\n",
       "    </tr>\n",
       "    <tr>\n",
       "      <th>std</th>\n",
       "      <td>9.197104</td>\n",
       "      <td>0.253994</td>\n",
       "      <td>28.148861</td>\n",
       "      <td>0.115878</td>\n",
       "      <td>6.860353</td>\n",
       "      <td>2.164946</td>\n",
       "      <td>2.105710</td>\n",
       "    </tr>\n",
       "    <tr>\n",
       "      <th>min</th>\n",
       "      <td>5.000000</td>\n",
       "      <td>0.000000</td>\n",
       "      <td>2.900000</td>\n",
       "      <td>0.385000</td>\n",
       "      <td>0.460000</td>\n",
       "      <td>12.600000</td>\n",
       "      <td>1.129600</td>\n",
       "    </tr>\n",
       "    <tr>\n",
       "      <th>25%</th>\n",
       "      <td>17.025000</td>\n",
       "      <td>0.000000</td>\n",
       "      <td>45.025000</td>\n",
       "      <td>0.449000</td>\n",
       "      <td>5.190000</td>\n",
       "      <td>17.400000</td>\n",
       "      <td>2.100175</td>\n",
       "    </tr>\n",
       "    <tr>\n",
       "      <th>50%</th>\n",
       "      <td>21.200000</td>\n",
       "      <td>0.000000</td>\n",
       "      <td>77.500000</td>\n",
       "      <td>0.538000</td>\n",
       "      <td>9.690000</td>\n",
       "      <td>19.050000</td>\n",
       "      <td>3.207450</td>\n",
       "    </tr>\n",
       "    <tr>\n",
       "      <th>75%</th>\n",
       "      <td>25.000000</td>\n",
       "      <td>0.000000</td>\n",
       "      <td>94.075000</td>\n",
       "      <td>0.624000</td>\n",
       "      <td>18.100000</td>\n",
       "      <td>20.200000</td>\n",
       "      <td>5.188425</td>\n",
       "    </tr>\n",
       "    <tr>\n",
       "      <th>max</th>\n",
       "      <td>50.000000</td>\n",
       "      <td>1.000000</td>\n",
       "      <td>100.000000</td>\n",
       "      <td>0.871000</td>\n",
       "      <td>27.740000</td>\n",
       "      <td>22.000000</td>\n",
       "      <td>12.126500</td>\n",
       "    </tr>\n",
       "  </tbody>\n",
       "</table>\n",
       "</div>"
      ],
      "text/plain": [
       "             MEDV        CHAS         AGE         NOX       INDUS     PTRATIO  \\\n",
       "count  506.000000  506.000000  506.000000  506.000000  506.000000  506.000000   \n",
       "mean    22.532806    0.069170   68.574901    0.554695   11.136779   18.455534   \n",
       "std      9.197104    0.253994   28.148861    0.115878    6.860353    2.164946   \n",
       "min      5.000000    0.000000    2.900000    0.385000    0.460000   12.600000   \n",
       "25%     17.025000    0.000000   45.025000    0.449000    5.190000   17.400000   \n",
       "50%     21.200000    0.000000   77.500000    0.538000    9.690000   19.050000   \n",
       "75%     25.000000    0.000000   94.075000    0.624000   18.100000   20.200000   \n",
       "max     50.000000    1.000000  100.000000    0.871000   27.740000   22.000000   \n",
       "\n",
       "              DIS  \n",
       "count  506.000000  \n",
       "mean     3.795043  \n",
       "std      2.105710  \n",
       "min      1.129600  \n",
       "25%      2.100175  \n",
       "50%      3.207450  \n",
       "75%      5.188425  \n",
       "max     12.126500  "
      ]
     },
     "execution_count": 17,
     "metadata": {},
     "output_type": "execute_result"
    }
   ],
   "source": [
    "# Descriptive stats subset\n",
    "vars_of_interest = ['MEDV','CHAS','AGE','NOX','INDUS','PTRATIO','DIS']\n",
    "boston_df[vars_of_interest].describe()"
   ]
  },
  {
   "cell_type": "markdown",
   "id": "045606d4",
   "metadata": {},
   "source": [
    "## 🏠 Task 2: Descriptive Statistics and Visualizations — Explanations\n",
    "\n",
    "### 1️⃣ Boxplot of Median Value of Owner-Occupied Homes (MEDV)\n",
    "The boxplot of **MEDV** shows the spread and central tendency of median home values in Boston.  \n",
    "Most houses are clustered between \\$20,000 and \\$25,000, with a few high-value outliers above \\$40,000.  \n",
    "This suggests a right-skewed distribution, where a smaller number of homes have significantly higher values.\n",
    "\n",
    "---\n",
    "\n",
    "### 2️⃣ Barplot of Charles River Variable (CHAS)\n",
    "The **CHAS** variable indicates whether a house is bounded by the Charles River (`1 = yes`, `0 = no`).  \n",
    "The barplot shows that only a small portion of homes are near the river.  \n",
    "This visual helps identify how unevenly distributed this variable is — most houses are not located by the river.\n",
    "\n",
    "---\n",
    "\n",
    "### 3️⃣ Boxplot of MEDV vs AGE\n",
    "The boxplot comparing **MEDV** and **AGE** (or age categories) reveals that **newer homes** generally have **higher median values**, while **older homes** tend to have lower median prices.  \n",
    "This relationship suggests that housing age negatively affects value, possibly due to differences in condition or neighborhood development.\n",
    "\n",
    "---\n",
    "\n",
    "### 4️⃣ Scatter Plot of NOX vs INDUS\n",
    "The scatter plot between **NOX** (nitric oxide concentration) and **INDUS** (proportion of non-retail business acres per town) shows a **positive correlation**.  \n",
    "As industrial activity increases, NOX levels also rise.  \n",
    "This implies that more industrial areas tend to have higher air pollution levels — a useful insight into environmental and zoning effects on housing.\n",
    "\n",
    "---\n",
    "\n",
    "### 5️⃣ Histogram of PTRATIO (Pupil–Teacher Ratio)\n",
    "The histogram of **PTRATIO** shows the distribution of student-to-teacher ratios across different towns.  \n",
    "Most values are between **14 and 20**, with a peak around 18.  \n",
    "This indicates that the majority of Boston-area schools maintain moderate class sizes, though a few areas have higher ratios (potentially indicating overcrowded schools).\n",
    "\n",
    "---\n",
    "\n",
    "### ✅ Summary\n",
    "Overall, the visualizations provide a clear view of how different factors relate to housing prices and urban characteristics in the Boston dataset.  \n",
    "They highlight variability in home values, the limited effect of river proximity, the impact of housing age, industrial influences on pollution, and variation in education quality.\n"
   ]
  },
  {
   "cell_type": "code",
   "execution_count": 18,
   "id": "eb0a0023",
   "metadata": {},
   "outputs": [
    {
     "data": {
      "image/png": "[encoded data removed]",
      "text/plain": [
       "<Figure size 600x400 with 1 Axes>"
      ]
     },
     "metadata": {},
     "output_type": "display_data"
    }
   ],
   "source": [
    "# Boxplot MEDV\n",
    "plt.figure(figsize=(6,4))\n",
    "plt.boxplot(boston_df['MEDV'].dropna(), vert=True)\n",
    "plt.title('Boxplot of MEDV ($1000s)')\n",
    "plt.ylabel('MEDV ($1000s)')\n",
    "plt.grid(axis='y', linestyle='--', alpha=0.4)\n",
    "plt.show()"
   ]
  },
  {
   "cell_type": "code",
   "execution_count": 19,
   "id": "d8081bb5",
   "metadata": {},
   "outputs": [
    {
     "data": {
      "image/png": "[encoded data removed]",
      "text/plain": [
       "<Figure size 600x400 with 1 Axes>"
      ]
     },
     "metadata": {},
     "output_type": "display_data"
    }
   ],
   "source": [
    "# Bar plot CHAS\n",
    "chas_counts = boston_df['CHAS'].value_counts().sort_index()\n",
    "plt.figure(figsize=(6,4))\n",
    "plt.bar(chas_counts.index.astype(str), chas_counts.values)\n",
    "plt.title('Counts of tracts bounded by Charles River (CHAS)')\n",
    "plt.xlabel('CHAS (0=no,1=yes)')\n",
    "plt.ylabel('Count')\n",
    "plt.show()"
   ]
  },
  {
   "cell_type": "code",
   "execution_count": 20,
   "id": "257e2d19",
   "metadata": {},
   "outputs": [
    {
     "name": "stderr",
     "output_type": "stream",
     "text": [
      "C:\\Users\\James Uy\\AppData\\Local\\Temp\\ipykernel_9444\\4131687405.py:7: MatplotlibDeprecationWarning: The 'labels' parameter of boxplot() has been renamed 'tick_labels' since Matplotlib 3.9; support for the old name will be dropped in 3.11.\n",
      "  plt.boxplot(data_to_plot, labels=labels, showmeans=True)\n"
     ]
    },
    {
     "data": {
      "image/png": "[encoded data removed]",
      "text/plain": [
       "<Figure size 800x500 with 1 Axes>"
      ]
     },
     "metadata": {},
     "output_type": "display_data"
    }
   ],
   "source": [
    "# Boxplot MEDV by AGE group\n",
    "bins = [-1,35,70,1000]\n",
    "labels = ['<=35','35-70','>70']\n",
    "boston_df['AGE_group'] = pd.cut(boston_df['AGE'], bins=bins, labels=labels)\n",
    "plt.figure(figsize=(8,5))\n",
    "data_to_plot = [boston_df.loc[boston_df['AGE_group']==lab,'MEDV'].dropna() for lab in labels]\n",
    "plt.boxplot(data_to_plot, labels=labels, showmeans=True)\n",
    "plt.title('MEDV by AGE group')\n",
    "plt.xlabel('AGE group')\n",
    "plt.ylabel('MEDV ($1000s)')\n",
    "plt.grid(axis='y', linestyle='--', alpha=0.4)\n",
    "plt.show()"
   ]
  },
  {
   "cell_type": "code",
   "execution_count": 21,
   "id": "8e1fe299",
   "metadata": {},
   "outputs": [
    {
     "data": {
      "image/png": "[encoded data removed]",
      "text/plain": [
       "<Figure size 700x500 with 1 Axes>"
      ]
     },
     "metadata": {},
     "output_type": "display_data"
    }
   ],
   "source": [
    "# Scatter NOX vs INDUS\n",
    "plt.figure(figsize=(7,5))\n",
    "plt.scatter(boston_df['NOX'], boston_df['INDUS'], alpha=0.7)\n",
    "plt.title('Scatter: NOX vs INDUS')\n",
    "plt.xlabel('NOX')\n",
    "plt.ylabel('INDUS')\n",
    "m,b = np.polyfit(boston_df['NOX'], boston_df['INDUS'],1)\n",
    "x_line = np.linspace(boston_df['NOX'].min(), boston_df['NOX'].max(),100)\n",
    "plt.plot(x_line, m*x_line+b, linestyle='--')\n",
    "plt.show()"
   ]
  },
  {
   "cell_type": "code",
   "execution_count": 22,
   "id": "f067522e",
   "metadata": {},
   "outputs": [
    {
     "data": {
      "image/png": "[encoded data removed]",
      "text/plain": [
       "<Figure size 700x400 with 1 Axes>"
      ]
     },
     "metadata": {},
     "output_type": "display_data"
    }
   ],
   "source": [
    "# Histogram PTRATIO\n",
    "plt.figure(figsize=(7,4))\n",
    "plt.hist(boston_df['PTRATIO'].dropna(), bins=12, edgecolor='black')\n",
    "plt.title('Histogram of PTRATIO')\n",
    "plt.xlabel('PTRATIO')\n",
    "plt.ylabel('Frequency')\n",
    "plt.show()"
   ]
  },
  {
   "cell_type": "markdown",
   "id": "a23db947",
   "metadata": {},
   "source": [
    "## 🧪 Task 3: Hypothesis Testing\n",
    "\n",
    "### 1️⃣ T-test: Difference in Median Value of Houses Bounded by the Charles River\n",
    "**Research Question:**  \n",
    "Is there a significant difference in the median value of houses bounded by the Charles River or not?\n",
    "\n",
    "- **Null Hypothesis (H₀):** There is no significant difference in the median value of houses bounded by the Charles River and those that are not.  \n",
    "  \\( H_0: \\mu_{\\text{CHAS=1}} = \\mu_{\\text{CHAS=0}} \\)\n",
    "\n",
    "- **Alternative Hypothesis (H₁):** There is a significant difference in the median value of houses bounded by the Charles River and those that are not.  \n",
    "  \\( H_1: \\mu_{\\text{CHAS=1}} \\ne \\mu_{\\text{CHAS=0}} \\)\n",
    "\n",
    "---\n",
    "\n",
    "### 2️⃣ ANOVA: Difference in Median House Values by Age Category\n",
    "**Research Question:**  \n",
    "Is there a difference in the median values of houses for each proportion of owner-occupied units built before 1940?\n",
    "\n",
    "- **Null Hypothesis (H₀):** The mean median house value (MEDV) is the same across all age groups.  \n",
    "  \\( H_0: \\mu_1 = \\mu_2 = \\mu_3 \\)\n",
    "\n",
    "- **Alternative Hypothesis (H₁):** At least one group’s mean median house value differs from the others.  \n",
    "  \\( H_1: \\text{At least one } \\mu_i \\text{ is different} \\)\n",
    "\n",
    "---\n",
    "\n",
    "### 3️⃣ Pearson Correlation: Relationship Between NOX and INDUS\n",
    "**Research Question:**  \n",
    "Can we conclude that there is no relationship between nitric oxide concentrations (NOX) and the proportion of non-retail business acres per town (INDUS)?\n",
    "\n",
    "- **Null Hypothesis (H₀):** There is no correlation between NOX and INDUS.  \n",
    "  \\( H_0: r = 0 \\)\n",
    "\n",
    "- **Alternative Hypothesis (H₁):** There is a significant correlation between NOX and INDUS.  \n",
    "  \\( H_1: r \\ne 0 \\)\n",
    "\n",
    "---\n",
    "\n",
    "### 4️⃣ Regression: Impact of Distance to Employment Centers on Median Home Value\n",
    "**Research Question:**  \n",
    "What is the impact of weighted distance to the five Boston employment centers (DIS) on the median value of homes (MEDV)?\n",
    "\n",
    "- **Null Hypothesis (H₀):** The distance to employment centers has no effect on median home value.  \n",
    "  \\( H_0: \\beta_1 = 0 \\)\n",
    "\n",
    "- **Alternative Hypothesis (H₁):** The distance to employment centers has a significant effect on median home value.  \n",
    "  \\( H_1: \\beta_1 \\ne 0 \\)\n"
   ]
  },
  {
   "cell_type": "code",
   "execution_count": 23,
   "id": "612a477b",
   "metadata": {},
   "outputs": [
    {
     "name": "stdout",
     "output_type": "stream",
     "text": [
      "T-test stat: -3.113291312794837 p-value: 0.0035671700981375174\n",
      "Reject H0: difference exists.\n"
     ]
    }
   ],
   "source": [
    "# T-test MEDV between CHAS groups\n",
    "group0 = boston_df.loc[boston_df['CHAS']==0,'MEDV'].dropna()\n",
    "group1 = boston_df.loc[boston_df['CHAS']==1,'MEDV'].dropna()\n",
    "levene_stat, levene_p = stats.levene(group0, group1)\n",
    "ttest_res = stats.ttest_ind(group0, group1, equal_var=(levene_p>0.05))\n",
    "alpha = 0.05\n",
    "print(\"T-test stat:\", ttest_res.statistic, \"p-value:\", ttest_res.pvalue)\n",
    "if ttest_res.pvalue<alpha:\n",
    "    print(\"Reject H0: difference exists.\")\n",
    "else:\n",
    "    print(\"Fail to reject H0.\")"
   ]
  },
  {
   "cell_type": "code",
   "execution_count": 24,
   "id": "cda4b7e5",
   "metadata": {},
   "outputs": [
    {
     "name": "stdout",
     "output_type": "stream",
     "text": [
      "ANOVA F-stat: 36.40764999196599 p-value: 1.7105011022702984e-15\n",
      "Reject H0: difference across AGE groups.\n"
     ]
    }
   ],
   "source": [
    "# ANOVA MEDV by AGE group\n",
    "groups = [boston_df.loc[boston_df['AGE_group']==lab,'MEDV'].dropna() for lab in labels]\n",
    "anova_stat, anova_p = stats.f_oneway(*groups)\n",
    "print(\"ANOVA F-stat:\", anova_stat, \"p-value:\", anova_p)\n",
    "if anova_p<alpha:\n",
    "    print(\"Reject H0: difference across AGE groups.\")\n",
    "else:\n",
    "    print(\"Fail to reject H0.\")"
   ]
  },
  {
   "cell_type": "code",
   "execution_count": 25,
   "id": "e1822c96",
   "metadata": {},
   "outputs": [
    {
     "name": "stdout",
     "output_type": "stream",
     "text": [
      "Pearson r: 0.7636514469209154 p-value: 7.913361061239734e-98\n",
      "Reject H0: correlation exists.\n"
     ]
    }
   ],
   "source": [
    "# Pearson correlation NOX vs INDUS\n",
    "pearson_r, pearson_p = stats.pearsonr(boston_df['NOX'], boston_df['INDUS'])\n",
    "print(\"Pearson r:\", pearson_r, \"p-value:\", pearson_p)\n",
    "if pearson_p<alpha:\n",
    "    print(\"Reject H0: correlation exists.\")\n",
    "else:\n",
    "    print(\"Fail to reject H0.\")"
   ]
  },
  {
   "cell_type": "code",
   "execution_count": 26,
   "id": "fe037682",
   "metadata": {},
   "outputs": [
    {
     "name": "stdout",
     "output_type": "stream",
     "text": [
      "                            OLS Regression Results                            \n",
      "==============================================================================\n",
      "Dep. Variable:                   MEDV   R-squared:                       0.062\n",
      "Model:                            OLS   Adj. R-squared:                  0.061\n",
      "Method:                 Least Squares   F-statistic:                     33.58\n",
      "Date:                Wed, 15 Oct 2025   Prob (F-statistic):           1.21e-08\n",
      "Time:                        10:56:00   Log-Likelihood:                -1823.9\n",
      "No. Observations:                 506   AIC:                             3652.\n",
      "Df Residuals:                     504   BIC:                             3660.\n",
      "Df Model:                           1                                         \n",
      "Covariance Type:            nonrobust                                         \n",
      "==============================================================================\n",
      "                 coef    std err          t      P>|t|      [0.025      0.975]\n",
      "------------------------------------------------------------------------------\n",
      "Intercept     18.3901      0.817     22.499      0.000      16.784      19.996\n",
      "DIS            1.0916      0.188      5.795      0.000       0.722       1.462\n",
      "==============================================================================\n",
      "Omnibus:                      139.779   Durbin-Watson:                   0.570\n",
      "Prob(Omnibus):                  0.000   Jarque-Bera (JB):              305.104\n",
      "Skew:                           1.466   Prob(JB):                     5.59e-67\n",
      "Kurtosis:                       5.424   Cond. No.                         9.32\n",
      "==============================================================================\n",
      "\n",
      "Notes:\n",
      "[1] Standard Errors assume that the covariance matrix of the errors is correctly specified.\n",
      "For each unit increase in DIS, MEDV changes by 1.092 ($1000s).\n"
     ]
    }
   ],
   "source": [
    "# Regression MEDV ~ DIS\n",
    "model = smf.ols('MEDV ~ DIS', data=boston_df).fit()\n",
    "print(model.summary())\n",
    "coef = model.params['DIS']\n",
    "print(f\"For each unit increase in DIS, MEDV changes by {coef:.3f} ($1000s).\")"
   ]
  },
  {
   "cell_type": "markdown",
   "id": "670ad385",
   "metadata": {},
   "source": [
    "### 🏙️ Interpreting the Coefficient for DIS\n",
    "The regression coefficient for **DIS** (weighted distance to Boston employment centers) is **negative**, which means that as the distance from employment centers increases, the median home value (**MEDV**) tends to decrease.  \n",
    "This indicates that homes located closer to job hubs are generally more valuable, likely due to convenience and reduced commuting times.\n"
   ]
  }
 ],
 "metadata": {
  "kernelspec": {
   "display_name": "Python 3",
   "language": "python",
   "name": "python3"
  },
  "language_info": {
   "codemirror_mode": {
    "name": "ipython",
    "version": 3
   },
   "file_extension": ".py",
   "mimetype": "text/x-python",
   "name": "python",
   "nbconvert_exporter": "python",
   "pygments_lexer": "ipython3",
   "version": "3.11.4"
  }
 },
 "nbformat": 4,
 "nbformat_minor": 5
}
